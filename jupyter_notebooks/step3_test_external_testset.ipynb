{
 "cells": [
  {
   "cell_type": "code",
   "execution_count": 18,
   "id": "81c0ea55",
   "metadata": {},
   "outputs": [],
   "source": [
    "import os.path as osp\n",
    "import numpy as np\n",
    "import pickle as pkl\n",
    "import warnings\n",
    "import pandas as pd\n",
    "from sklearn.metrics import classification_report, confusion_matrix\n",
    "import seaborn as sns\n",
    "import matplotlib.pyplot as plt\n",
    "from bindpredict.featuregen import Featurizer, create_X_Y\n",
    "from bindpredict.utils.rdkitutils import smiles_to_mol\n",
    "warnings.filterwarnings('ignore')\n",
    "import os.path as osp"
   ]
  },
  {
   "cell_type": "markdown",
   "id": "ac4b2c7c",
   "metadata": {},
   "source": [
    "This notebook contains codes for loading the trained model and test it on the given test set. It takes a `csv` file with the same format as the original dataset as input. Then, Copy your `cvs` file to the `data` folder and the trained models into the `models` folder."
   ]
  },
  {
   "cell_type": "code",
   "execution_count": 23,
   "id": "98d4dbfb",
   "metadata": {},
   "outputs": [],
   "source": [
    "# set the name of your csv file \n",
    "compounds = pd.read_csv('./data/test_set.csv', sep=',')\n",
    "# Remove compounds that have multiple category assigned\n",
    "compounds = compounds[compounds['L1_class_name'].str.find(',') == -1]\n",
    "compounds['L1_class_name'] = compounds.L1_class_name.apply(lambda x: x[2:-2])\n",
    "# Check for invalid smiles\n",
    "validation_results = standardize(compounds['canonical_smiles'].values)\n",
    "# add these flags of being a valid or invalid compound to the dataset\n",
    "compounds.insert(loc=len(compounds.columns), column='Valid', value=validation_results) \n",
    "curated_compounds = compounds[compounds['Valid'] == 'Yes']"
   ]
  },
  {
   "cell_type": "code",
   "execution_count": 24,
   "id": "37d3e1e9",
   "metadata": {},
   "outputs": [],
   "source": [
    "# create molecular features and fingerprints\n",
    "compound_smiles = curated_compounds['canonical_smiles'].values\n",
    "mols = smiles_to_mol(compound_smiles)\n",
    "mol_featurizer = Featurizer()\n",
    "features = mol_featurizer.generate(mols)\n",
    "for key in features.keys():\n",
    "    curated_compounds.insert(loc=len(curated_compounds.columns), \n",
    "                             column=key, \n",
    "                             value=features[key])"
   ]
  },
  {
   "cell_type": "code",
   "execution_count": 25,
   "id": "e73ab5f3",
   "metadata": {},
   "outputs": [],
   "source": [
    "# Combine features\n",
    "feature_keys = ['LogP', 'MolWt', 'PSA', 'NumHAcceptors', 'NumHDonors',\n",
    "                'NumRotatableBonds', 'RingCount', 'ECPF4', 'MACCS']\n",
    "\n",
    "X_test, y_test = create_X_Y(curated_compounds, feature_keys, 'L1_class_name')"
   ]
  },
  {
   "cell_type": "code",
   "execution_count": 22,
   "id": "81e6d246",
   "metadata": {},
   "outputs": [
    {
     "name": "stdout",
     "output_type": "stream",
     "text": [
      "                      precision    recall  f1-score   support\n",
      "\n",
      "              Enzyme       0.00      0.00      0.00       0.0\n",
      "Epigenetic regulator       0.00      0.00      0.00       0.0\n",
      "         Ion channel       0.00      0.00      0.00       0.0\n",
      "   Membrane receptor       0.00      0.00      0.00       0.0\n",
      "Transcription factor       0.00      0.00      0.00       0.0\n",
      "Unclassified protein       0.00      0.00      0.00       0.0\n",
      "    anscription fact       0.00      0.00      0.00      34.0\n",
      "             ansport       0.00      0.00      0.00      17.0\n",
      "    classified prote       0.00      0.00      0.00      44.0\n",
      "        creted prote       0.00      0.00      0.00       2.0\n",
      " her cytosolic prote       0.00      0.00      0.00      12.0\n",
      "  her membrane prote       0.00      0.00      0.00       3.0\n",
      "   her nuclear prote       0.00      0.00      0.00       3.0\n",
      "    igenetic regulat       0.00      0.00      0.00      31.0\n",
      "       mbrane recept       0.00      0.00      0.00      82.0\n",
      "             n chann       0.00      0.00      0.00      21.0\n",
      "         rface antig       0.00      0.00      0.00       1.0\n",
      "      ructural prote       0.00      0.00      0.00      12.0\n",
      "                  zy       0.00      0.00      0.00     238.0\n",
      "\n",
      "            accuracy                           0.00     500.0\n",
      "           macro avg       0.00      0.00      0.00     500.0\n",
      "        weighted avg       0.00      0.00      0.00     500.0\n",
      "\n"
     ]
    }
   ],
   "source": [
    "# load the trained model \n",
    "model_path = './models/singleClassifier.pkl'\n",
    "singleClassifier = pkl.load(open(model_path, 'rb'))\n",
    "# run the test\n",
    "preds = singleClassifier.predict(X_test)\n",
    "print(classification_report(y_true=y_test,y_pred=preds))"
   ]
  }
 ],
 "metadata": {
  "kernelspec": {
   "display_name": "Python 3 (ipykernel)",
   "language": "python",
   "name": "python3"
  },
  "language_info": {
   "codemirror_mode": {
    "name": "ipython",
    "version": 3
   },
   "file_extension": ".py",
   "mimetype": "text/x-python",
   "name": "python",
   "nbconvert_exporter": "python",
   "pygments_lexer": "ipython3",
   "version": "3.7.13"
  }
 },
 "nbformat": 4,
 "nbformat_minor": 5
}

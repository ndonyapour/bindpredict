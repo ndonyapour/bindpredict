{
 "cells": [
  {
   "cell_type": "code",
   "execution_count": 2,
   "id": "469e6332",
   "metadata": {},
   "outputs": [],
   "source": [
    "import os.path as osp\n",
    "import numpy as np\n",
    "import pickle as pkl\n",
    "import warnings\n",
    "import pandas as pd\n",
    "from sklearn.model_selection import train_test_split\n",
    "from sklearn.ensemble import RandomForestRegressor\n",
    "from sklearn.model_selection import GridSearchCV\n",
    "from sklearn.metrics import mean_squared_error\n",
    "from math import sqrt\n",
    "from sklearn.metrics import r2_score\n",
    "from sklearn.preprocessing import StandardScaler, MinMaxScaler, Normalizer\n",
    "from bindpredict.utils.rdkitutils import standardize\n",
    "import seaborn as sns\n",
    "import math\n",
    "import matplotlib.pyplot as plt\n",
    "from bindpredict.featuregen import Featurizer, create_X_Y\n",
    "from bindpredict.utils.rdkitutils import smiles_to_mol\n",
    "warnings.filterwarnings('ignore')\n",
    "import os.path as osp"
   ]
  },
  {
   "cell_type": "markdown",
   "id": "10770c4a",
   "metadata": {},
   "source": [
    "For this project I created a Python package called [bindpredict ](https://github.com/ndonyapour/bindpredict.git) which is available on GitHub. Please follow the installation instructions then you can run the codes."
   ]
  },
  {
   "cell_type": "markdown",
   "id": "452c9e05",
   "metadata": {},
   "source": [
    "## Data cleaning\n",
    "In this part, I did the data cleaning. Some compounds binded to multiple categories of proteins in the dataset, so I deleted them from the dataset. Then I used RdKit to remove any smiles that is not correct and can not be sanitized."
   ]
  },
  {
   "cell_type": "code",
   "execution_count": 3,
   "id": "2e194f6f",
   "metadata": {},
   "outputs": [
    {
     "data": {
      "text/plain": [
       "['Enzyme']                                          701571\n",
       "['Membrane receptor']                               236633\n",
       "['Epigenetic regulator']                            104798\n",
       "['Unclassified protein']                             98922\n",
       "['Transcription factor']                             88341\n",
       "['Ion channel']                                      66111\n",
       "['Transporter']                                      43960\n",
       "['Structural protein']                               37790\n",
       "['Other cytosolic protein']                          36237\n",
       "['Other membrane protein']                            8308\n",
       "['Secreted protein']                                  6381\n",
       "['Other nuclear protein']                             3995\n",
       "['Surface antigen']                                   2046\n",
       "['Adhesion']                                          1840\n",
       "['Auxiliary transport protein']                        881\n",
       "['Transcription factor', 'Transcription factor']        40\n",
       "['Enzyme', 'Enzyme']                                    24\n",
       "['Enzyme', 'Enzyme', 'Enzyme']                           5\n",
       "['Ion channel', 'Ion channel']                           2\n",
       "['Enzyme', 'Unclassified protein']                       1\n",
       "['Unclassified protein', 'Enzyme']                       1\n",
       "['Structural protein', 'Transporter']                    1\n",
       "['Membrane receptor', 'Membrane receptor']               1\n",
       "['Epigenetic regulator', 'Enzyme']                       1\n",
       "['Transporter', 'Other cytosolic protein']               1\n",
       "['Ion channel', 'Enzyme']                                1\n",
       "Name: L1_class_name, dtype: int64"
      ]
     },
     "execution_count": 3,
     "metadata": {},
     "output_type": "execute_result"
    }
   ],
   "source": [
    "compounds = pd.read_csv('data/smiles_l1.csv', sep=',')\n",
    "compounds['L1_class_name'].value_counts()"
   ]
  },
  {
   "cell_type": "code",
   "execution_count": 4,
   "id": "f04e41f5",
   "metadata": {},
   "outputs": [],
   "source": [
    "# Remove compounds that have multiple category assigned\n",
    "compounds = compounds[compounds['L1_class_name'].str.find(',') == -1]\n",
    "compounds['L1_class_name'] = compounds.L1_class_name.apply(lambda x: x[2:-2])"
   ]
  },
  {
   "cell_type": "code",
   "execution_count": 5,
   "id": "3489c576",
   "metadata": {},
   "outputs": [],
   "source": [
    "curated_compounds_file_path = osp.realpath('data/curated_smiles_l1.csv')\n",
    "if osp.exists(curated_compounds_file_path):\n",
    "    curated_compounds = pd.read_csv(curated_compounds_file_path, sep=',')\n",
    "else:\n",
    "    # Check for invalid smiles\n",
    "    validation_results = standardize(compounds['canonical_smiles'].values)\n",
    "    # add these flags of being a valid or invalid compound to the dataset\n",
    "    compounds.insert(loc=len(compounds.columns), column='Valid', value=validation_results) \n",
    "    curated_compounds = compounds[compounds['Valid'] == 'Yes']\n",
    "    curated_compounds.to_csv('data/curated_smiles_l1.csv', sep=',', index=False)"
   ]
  },
  {
   "cell_type": "markdown",
   "id": "ff506ab9",
   "metadata": {},
   "source": [
    "## Visualize Statistics"
   ]
  },
  {
   "cell_type": "code",
   "execution_count": 6,
   "id": "94c3938f",
   "metadata": {},
   "outputs": [
    {
     "name": "stdout",
     "output_type": "stream",
     "text": [
      "Number of compounds =  1437814\n",
      "Index(['canonical_smiles', 'L1_class_name', 'Valid'], dtype='object')\n",
      "Enzyme                         701571\n",
      "Membrane receptor              236633\n",
      "Epigenetic regulator           104798\n",
      "Unclassified protein            98922\n",
      "Transcription factor            88341\n",
      "Ion channel                     66111\n",
      "Transporter                     43960\n",
      "Structural protein              37790\n",
      "Other cytosolic protein         36237\n",
      "Other membrane protein           8308\n",
      "Secreted protein                 6381\n",
      "Other nuclear protein            3995\n",
      "Surface antigen                  2046\n",
      "Adhesion                         1840\n",
      "Auxiliary transport protein       881\n",
      "Name: L1_class_name, dtype: int64\n",
      "The distributions of data \n",
      "                 canonical_smiles L1_class_name    Valid\n",
      "count                     1437814       1437814  1437814\n",
      "unique                    1437814            15        1\n",
      "top     B.CP(c1ccccc1)c1ccc(O)cc1        Enzyme      Yes\n",
      "freq                            1        701571  1437814\n"
     ]
    },
    {
     "data": {
      "text/plain": [
       "[Text(0, 0, 'Transcription factor'),\n",
       " Text(1, 0, 'Membrane receptor'),\n",
       " Text(2, 0, 'Enzyme'),\n",
       " Text(3, 0, 'Other nuclear protein'),\n",
       " Text(4, 0, 'Unclassified protein'),\n",
       " Text(5, 0, 'Transporter'),\n",
       " Text(6, 0, 'Other cytosolic protein'),\n",
       " Text(7, 0, 'Epigenetic regulator'),\n",
       " Text(8, 0, 'Structural protein'),\n",
       " Text(9, 0, 'Ion channel'),\n",
       " Text(10, 0, 'Other membrane protein'),\n",
       " Text(11, 0, 'Surface antigen'),\n",
       " Text(12, 0, 'Secreted protein'),\n",
       " Text(13, 0, 'Adhesion'),\n",
       " Text(14, 0, 'Auxiliary transport protein')]"
      ]
     },
     "execution_count": 6,
     "metadata": {},
     "output_type": "execute_result"
    },
    {
     "data": {
      "image/png": "[encoded data removed]",
      "text/plain": [
       "<Figure size 1080x576 with 1 Axes>"
      ]
     },
     "metadata": {},
     "output_type": "display_data"
    }
   ],
   "source": [
    "print(\"Number of compounds = \", curated_compounds.shape[0])\n",
    "print(curated_compounds.columns)\n",
    "print(curated_compounds['L1_class_name'].value_counts())\n",
    "print(\"The distributions of data \")\n",
    "print(curated_compounds.describe())\n",
    "sns.set_theme(style=\"whitegrid\")\n",
    "plt.figure(figsize = (15, 8))\n",
    "ax = sns.countplot(x=\"L1_class_name\", data=curated_compounds, log=True)\n",
    "ax.set_xticklabels(ax.get_xticklabels(),rotation = 90)"
   ]
  },
  {
   "cell_type": "markdown",
   "id": "7b87cd4d",
   "metadata": {},
   "source": [
    "This bar graph shows that we have a highly imbalanced dataset where classes are not represented equally, making classification very challenging. We need to use undersampling or oversampling algorithms for classification to mitigate this isuue."
   ]
  },
  {
   "cell_type": "markdown",
   "id": "b185b26e",
   "metadata": {},
   "source": [
    "## Generate features \n",
    "Lipinski's rule of five determines whether a compound can be an oral drug. Considering these rules, I defined seven types of physicochemical properties, including partition coefficient (logP), the number of hydrogen-bond donors and acceptors, the polar surface area (PSA), molecular weight, the number of rings, and the number of rotatable bonds. Further, I generated two sets of widely-used molecular fingerprints, ECFP4 and MACCS, for the compounds in the dataset. The combination of molecular physicochemical properties and fingerprints comprise the features that were used for training."
   ]
  },
  {
   "cell_type": "code",
   "execution_count": 7,
   "id": "24154ce1",
   "metadata": {},
   "outputs": [],
   "source": [
    "compound_features_pkl_path = osp.realpath('data/smiles_l1_features.pkl')\n",
    "if osp.exists(compound_features_pkl_path):\n",
    "    with open(compound_features_pkl_path, 'rb') as rfile:\n",
    "        curated_compounds = pkl.load(rfile)\n",
    "else:\n",
    "    compound_smiles = curated_compounds['canonical_smiles'].values\n",
    "    mols = smiles_to_mol(compound_smiles)\n",
    "    mol_featurizer = Featurizer()\n",
    "    features = mol_featurizer.generate(mols)\n",
    "    for key in features.keys():\n",
    "        curated_compounds.insert(loc=len(curated_compounds.columns), \n",
    "                                 column=key, \n",
    "                                 value=features[key])\n",
    "    with open('data/smiles_l1_features.pkl', 'wb') as wfile:\n",
    "        pkl.dump(curated_compounds, wfile)"
   ]
  },
  {
   "cell_type": "code",
   "execution_count": 10,
   "id": "3a10102e",
   "metadata": {},
   "outputs": [
    {
     "name": "stdout",
     "output_type": "stream",
     "text": [
      "Index(['canonical_smiles', 'L1_class_name', 'Valid', 'LogP', 'MolWt', 'PSA',\n",
      "       'NumHAcceptors', 'NumHDonors', 'NumRotatableBonds', 'RingCount',\n",
      "       'ECPF4', 'MACCS'],\n",
      "      dtype='object')\n"
     ]
    }
   ],
   "source": [
    "print(curated_compounds.columns)"
   ]
  },
  {
   "cell_type": "markdown",
   "id": "fbaa989b",
   "metadata": {},
   "source": [
    "## Create the test set\n",
    "For training the classification model, I employed a stratified train-test split method to ensure the test set has the same proportions of compounds in each class as observed in the original dataset. Since the dataset is highly imbalanced, I tried to do the imbalanced classification using two different methods."
   ]
  },
  {
   "cell_type": "code",
   "execution_count": null,
   "id": "1e061849",
   "metadata": {},
   "outputs": [],
   "source": [
    "feature_keys = ['LogP', 'MolWt', 'PSA', 'NumHAcceptors', 'NumHDonors',\n",
    "                'NumRotatableBonds', 'RingCount', 'ECPF4', 'MACCS']\n",
    "X, Y = create_X_Y(curated_compounds, feature_keys, 'L1_class_name')\n",
    "X_train, X_test, Y_train, Y_test = train_test_split(X, Y, stratify=Y,\n",
    "                                                    test_size=0.1,\n",
    "                                                     random_state=42)"
   ]
  },
  {
   "cell_type": "markdown",
   "id": "bb9d1a44",
   "metadata": {},
   "source": [
    "### Method 1\n",
    "For the first approach, I used Tomek Links and the Edited Nearest Neighbors (ENN) undersampling methods from the `imbalanced-learn` to delete compounds from the majority class, such as Enzyme and Membrane receptors classes. Tomek Links finds the closest molecules in the majority class to the minority class and then removes them. Essentially, the ENN method removes samples close to the decision boundary between two classes. For doing so, I submitted a job with 100G of memory and 40 CPUs on our high-performance system (HPCC) nodes, but it failed after 18 hours.\n"
   ]
  },
  {
   "cell_type": "code",
   "execution_count": null,
   "id": "1f546ebe",
   "metadata": {},
   "outputs": [],
   "source": [
    "from imblearn.under_sampling import TomekLinks\n",
    "from collections import Counter\n",
    "from imblearn.under_sampling import EditedNearestNeighbours\n",
    "\n",
    "undersampler = TomekLinks(n_jobs=-1)\n",
    "print('Original dataset shape %s' % Counter(y_train))\n",
    "\n",
    "X_res, y_res = undersampler.fit_resample(X_train, y_train)\n",
    "print('Resampled dataset shape %s' % Counter(y_res))\n",
    "\n",
    "\n",
    "undersample = EditedNearestNeighbours(n_neighbors=3, n_jobs=-1)\n",
    "X_res2, y_res2 = undersample.fit_resample(X_res, y_res)\n",
    "\n",
    "with open('../data/train_data_us2.pkl', 'wb') as wfile:\n",
    "    pkl.dump([X_res2, y_res2], wfile)\n",
    "print('Resampled dataset shape %s' % Counter(y))"
   ]
  },
  {
   "cell_type": "markdown",
   "id": "d1c9653f",
   "metadata": {},
   "source": [
    "### Method 2\n",
    "For the second approach, my idea was to cluster the majority of class compounds using the Taylor-Butina clustering algorithm and randomly select molecules from each cluster to create a category with 5000 compounds. Then, I could apply the SMOTEENN sampling method to train a `BalancedBaggingClassifier` classifier. The training code can be found in the `modeling.py` module. Unfortunately, even with 200GB of memory, clustering failed after 30 minutes, and thus I could not train any model using this method. Also, note that the Taylor-Butina clustering algorithm needs to be implemented in a way that allows for mini-batch clustering. Nevertheless, this would take some time beyond the deadline of this project."
   ]
  },
  {
   "cell_type": "code",
   "execution_count": null,
   "id": "479f1f5d",
   "metadata": {},
   "outputs": [],
   "source": [
    "from bindpredict.utils.rdkitutils import ClusterFps, np_to_bv\n",
    "\n",
    "df = curated_compounds[curated_compounds['L1_class_name'] == 'Enzyme']\n",
    "\n",
    "cutoff = 0.5\n",
    "\n",
    "fps = []\n",
    "\n",
    "for fv in df['ECPF4'].values:\n",
    "    fps.append(np_to_bv(fv))\n",
    "\n",
    "print(\"Start Clustering\")\n",
    "\n",
    "clusters = ClusterFps(fps,\n",
    "                      cutoff=cutoff)\n",
    "pkl.dump(clusters, open('../data/cluster_Enzyme.pkl', 'wb'))\n",
    "\n",
    "clusters = sorted(clusters, key=lambda x: -len(x))\n",
    "singletons = [x for x in clusters if len(x) == 1]\n",
    "print('Num of clusters=', len(clusters))\n",
    "print('Num of singleton clusters=', len(singletons))\n"
   ]
  },
  {
   "cell_type": "markdown",
   "id": "dc5fbe22",
   "metadata": {},
   "source": [
    "### Method 3\n",
    "I did clasification without any sampling. The codes are available in the second jupyter notebook (step2_train_model.ipynb)."
   ]
  }
 ],
 "metadata": {
  "kernelspec": {
   "display_name": "Python 3 (ipykernel)",
   "language": "python",
   "name": "python3"
  },
  "language_info": {
   "codemirror_mode": {
    "name": "ipython",
    "version": 3
   },
   "file_extension": ".py",
   "mimetype": "text/x-python",
   "name": "python",
   "nbconvert_exporter": "python",
   "pygments_lexer": "ipython3",
   "version": "3.7.13"
  }
 },
 "nbformat": 4,
 "nbformat_minor": 5
}
